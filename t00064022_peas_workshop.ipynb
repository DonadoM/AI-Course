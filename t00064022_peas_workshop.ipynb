{
 "cells": [
  {
   "cell_type": "code",
   "execution_count": null,
   "id": "d1bc38344420413b",
   "metadata": {},
   "outputs": [],
   "source": [
    "from sympy.logic.boolalg import Implies, And, Or, Not\n",
    "from sympy import symbols\n",
    "from sympy.logic.inference import satisfiable\n"
   ]
  },
  {
   "cell_type": "code",
   "execution_count": null,
   "id": "fb3b62d0e18a31de",
   "metadata": {},
   "outputs": [],
   "source": [
    "# ------------------------------------------------------------------------------\n",
    "# Escenario: Videojuego \"Red Dead Redemption 2\"\n",
    "#\n",
    "# Se han establecido las siguientes bandas sonoras y sus propiedades:\n",
    "#   - MainTheme: Se asocia a MainArea y tiene características melancólicas.\n",
    "#   - GunfightTheme: Se asocia a GunfightArea y es de estilo intenso.\n",
    "#   - JourneyTheme: Se asocia a WildernessArea y posee un estilo ambiental.\n",
    "#   - SaloonTheme: Se asocia a SaloonArea y es de estilo relajado.\n",
    "#\n",
    "# Se definen reglas lógicas que determinan la adecuación de la banda sonora\n",
    "# para escenas específicas en el videojuego.\n",
    "# ------------------------------------------------------------------------------\n",
    "\n",
    "# Definir bandas sonoras (solo se usan para referencia en los hechos)\n",
    "MainTheme, GunfightTheme, JourneyTheme, SaloonTheme = symbols('MainTheme GunfightTheme JourneyTheme SaloonTheme')\n",
    "\n",
    "# Definir áreas del videojuego\n",
    "MainArea, GunfightArea, WildernessArea, SaloonArea = symbols('MainArea GunfightArea WildernessArea SaloonArea')\n",
    "\n",
    "# Definir predicados de propiedades musicales\n",
    "EsMelancolico, EsIntenso, EsAmbiental, EsRelajado = symbols('EsMelancolico EsIntenso EsAmbiental EsRelajado')\n",
    "\n",
    "# Definir símbolos para la adecuación de la banda sonora a un tipo de escena\n",
    "AdecuadoNarrativo, AdecuadoTiroteo, AdecuadoViaje, AdecuadoSocial = symbols('AdecuadoNarrativo AdecuadoTiroteo AdecuadoViaje AdecuadoSocial')\n"
   ]
  },
  {
   "cell_type": "code",
   "execution_count": null,
   "id": "7542db8178dd3ecb",
   "metadata": {},
   "outputs": [],
   "source": [
    "\n",
    "# ------------------------------------------------------------------------------\n",
    "# Reglas Lógicas Mejoradas\n",
    "#\n",
    "# 1. Regla Narrativa:\n",
    "#    Una banda sonora es adecuada para escenas narrativas si es melancólica\n",
    "#    o ambiental y se utiliza en MainArea.\n",
    "rule_narrativo = Implies(And(Or(EsMelancolico, EsAmbiental), MainArea), AdecuadoNarrativo)\n",
    "\n",
    "# 2. Regla para Tiroteos:\n",
    "#    Una banda sonora es adecuada para escenas de tiroteo si es intensa y se usa en GunfightArea.\n",
    "rule_tiroteo = Implies(And(EsIntenso, GunfightArea), AdecuadoTiroteo)\n",
    "\n",
    "# 3. Regla para Viajes:\n",
    "#    Una banda sonora es adecuada para escenas de viaje si es ambiental y se utiliza en WildernessArea.\n",
    "rule_viaje = Implies(And(EsAmbiental, WildernessArea), AdecuadoViaje)\n",
    "\n",
    "# 4. Regla para Escenas Sociales:\n",
    "#    Una banda sonora es adecuada para escenas de interacción social si es relajada y se usa en SaloonArea.\n",
    "rule_social = Implies(And(EsRelajado, SaloonArea), AdecuadoSocial)\n",
    "\n",
    "# ------------------------------------------------------------------------------\n",
    "# Hechos: Asociación de bandas sonoras con sus propiedades y áreas en RDR2\n",
    "#\n",
    "# Se asume que cada banda sonora tiene sus propiedades definidas de acuerdo al juego.\n",
    "# ------------------------------------------------------------------------------\n",
    "# MainTheme es melancólico y se utiliza en MainArea.\n",
    "fact_MainTheme = And(EsMelancolico, MainArea)\n",
    "\n",
    "# GunfightTheme es intenso y se utiliza en GunfightArea.\n",
    "fact_GunfightTheme = And(EsIntenso, GunfightArea)\n",
    "\n",
    "# JourneyTheme es ambiental y se utiliza en WildernessArea.\n",
    "fact_JourneyTheme = And(EsAmbiental, WildernessArea)\n",
    "\n",
    "# SaloonTheme es relajado y se utiliza en SaloonArea.\n",
    "fact_SaloonTheme = And(EsRelajado, SaloonArea)\n"
   ]
  },
  {
   "cell_type": "code",
   "execution_count": 18,
   "id": "809b0162a3b9f85b",
   "metadata": {
    "ExecuteTime": {
     "end_time": "2025-03-10T02:16:51.876322Z",
     "start_time": "2025-03-10T02:16:51.851810Z"
    }
   },
   "outputs": [
    {
     "name": "stdout",
     "output_type": "stream",
     "text": [
      "¿MainTheme es adecuado para escenas narrativas? True\n",
      "¿GunfightTheme es adecuado para escenas de tiroteo? True\n",
      "¿JourneyTheme es adecuado para escenas de viaje? True\n",
      "¿SaloonTheme es adecuado para escenas sociales? True\n"
     ]
    }
   ],
   "source": [
    "# ------------------------------------------------------------------------------\n",
    "# Evaluación de las Reglas mediante Consultas e Inferencias\n",
    "# ------------------------------------------------------------------------------\n",
    "# Consulta 1: ¿MainTheme es adecuado para escenas narrativas?\n",
    "scenario_narrativo = And(fact_MainTheme, rule_narrativo)\n",
    "result_narrativo = satisfiable(scenario_narrativo)\n",
    "print(\"¿MainTheme es adecuado para escenas narrativas?\",\n",
    "      result_narrativo.get(AdecuadoNarrativo, False))\n",
    "\n",
    "# Consulta 2: ¿GunfightTheme es adecuado para escenas de tiroteo?\n",
    "scenario_tiroteo = And(fact_GunfightTheme, rule_tiroteo)\n",
    "result_tiroteo = satisfiable(scenario_tiroteo)\n",
    "print(\"¿GunfightTheme es adecuado para escenas de tiroteo?\",\n",
    "      result_tiroteo.get(AdecuadoTiroteo, False))\n",
    "\n",
    "# Consulta 3: ¿JourneyTheme es adecuado para escenas de viaje?\n",
    "scenario_viaje = And(fact_JourneyTheme, rule_viaje)\n",
    "result_viaje = satisfiable(scenario_viaje)\n",
    "print(\"¿JourneyTheme es adecuado para escenas de viaje?\",\n",
    "      result_viaje.get(AdecuadoViaje, False))\n",
    "\n",
    "# Consulta 4: ¿SaloonTheme es adecuado para escenas sociales?\n",
    "scenario_social = And(fact_SaloonTheme, rule_social)\n",
    "result_social = satisfiable(scenario_social)\n",
    "print(\"¿SaloonTheme es adecuado para escenas sociales?\",\n",
    "      result_social.get(AdecuadoSocial, False))\n"
   ]
  }
 ],
 "metadata": {
  "kernelspec": {
   "display_name": "Python 3",
   "language": "python",
   "name": "python3"
  },
  "language_info": {
   "codemirror_mode": {
    "name": "ipython",
    "version": 2
   },
   "file_extension": ".py",
   "mimetype": "text/x-python",
   "name": "python",
   "nbconvert_exporter": "python",
   "pygments_lexer": "ipython2",
   "version": "2.7.6"
  }
 },
 "nbformat": 4,
 "nbformat_minor": 5
}
