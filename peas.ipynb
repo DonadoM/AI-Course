{
 "cells": [
  {
   "metadata": {},
   "cell_type": "markdown",
   "source": [
    "### FOL y Agente de composición musical, ejemplo de aplicación general y específico\n",
    "    -Mauricio Alfonso Donado Canedo - T00064022"
   ],
   "id": "b04d0188b45d91d0"
  },
  {
   "metadata": {},
   "cell_type": "code",
   "outputs": [],
   "execution_count": null,
   "source": [
    "from sympy import symbols, Implies, And, Not, satisfiable\n",
    "# --------------------------------------------------------------\n",
    "# Ejemplo Generalizado para un Agente de Composición Musical\n",
    "# --------------------------------------------------------------\n",
    "\n",
    "# Variables generales que representan etapas del proceso del agente\n",
    "Recibe, Consulta, Emplea, Utiliza, Genera = symbols('Recibe Consulta Emplea Utiliza Genera', boolean=True)\n",
    "\n",
    "# Axiomas generales:\n",
    "axioma_gen1 = Implies(Recibe, Consulta)\n",
    "axioma_gen2 = Implies(And(Consulta, Emplea), Utiliza)\n",
    "axioma_gen3 = Implies(Utiliza, Genera)\n",
    "\n",
    "axiomas_gen = And(axioma_gen1, axioma_gen2, axioma_gen3)\n",
    "\n",
    "def consulta_gen(condiciones, descripcion):\n",
    "    formula = And(axiomas_gen, condiciones, Not(Genera))\n",
    "    resultado = satisfiable(formula)\n",
    "    if not resultado:\n",
    "        print(f\"{descripcion}: Se deduce que 'Genera' es True.\")\n",
    "    else:\n",
    "        print(f\"{descripcion}: No se deduce 'Genera'. Asignación parcial: {resultado}\")\n",
    "\n",
    "print(\"\\n----- Ejemplo Generalizado -----\")\n",
    "consulta_gen(And(Recibe, Consulta, Emplea, Utiliza), \"Consulta General: Condiciones completas\")\n",
    "consulta_gen(And(Not(Recibe), Consulta, Emplea, Utiliza), \"Consulta General: Falta 'Recibe'\")\n",
    "consulta_gen(And(Recibe, Not(Consulta), Emplea, Utiliza), \"Consulta General: Falta 'Consulta'\")\n",
    "consulta_gen(And(Recibe, Consulta, Not(Emplea), Utiliza), \"Consulta General: Falta 'Emplea'\")\n",
    "consulta_gen(And(Recibe, Consulta, Emplea, Not(Utiliza)), \"Consulta General: Falta 'Utiliza'\")\n"
   ],
   "id": "21179175794bbe16"
  },
  {
   "metadata": {},
   "cell_type": "markdown",
   "source": [
    "\n",
    "### Ejemplo de Aplicación: Agente de Composición Musical para Videojuegos\n"
   ],
   "id": "6ec541e8f0a9d981"
  },
  {
   "metadata": {},
   "cell_type": "code",
   "outputs": [],
   "execution_count": null,
   "source": [
    "# Definir variables booleanas para bandas sonoras, propiedades y escenarios en RDR2\n",
    "MainTheme, GunfightTheme, JourneyTheme, SaloonTheme, OutlawTheme = symbols(\n",
    "    'MainTheme GunfightTheme JourneyTheme SaloonTheme OutlawTheme', boolean=True\n",
    ")\n",
    "Melancolico, Intenso, Ambiental, Relajado, Oscuro = symbols(\n",
    "    'Melancolico Intenso Ambiental Relajado Oscuro', boolean=True\n",
    ")\n",
    "\n",
    "Narrativa, Tiroteo, Viaje, Social, ZonaOutlaw = symbols(\n",
    "    'Narrativa Tiroteo Viaje Social ZonaOutlaw', boolean=True\n",
    ")\n",
    "\n",
    "# Definir variables que indican la adecuación de cada banda sonora para su escenario\n",
    "AdecuadoMain, AdecuadoGunfight, AdecuadoJourney, AdecuadoSaloon, AdecuadoOutlaw = symbols(\n",
    "    'AdecuadoMain AdecuadoGunfight AdecuadoJourney AdecuadoSaloon AdecuadoOutlaw', boolean=True\n",
    ")\n",
    "\n",
    "# Axiomas que modelan la adecuación de cada banda sonora:\n",
    "axioma_main = Implies(And(Melancolico, Narrativa, MainTheme), AdecuadoMain)\n",
    "axioma_gunfight = Implies(And(Intenso, Tiroteo, GunfightTheme), AdecuadoGunfight)\n",
    "axioma_journey = Implies(And(Ambiental, Viaje, JourneyTheme), AdecuadoJourney)\n",
    "axioma_saloon = Implies(And(Relajado, Social, SaloonTheme), AdecuadoSaloon)\n",
    "axioma_outlaw = Implies(And(Oscuro, ZonaOutlaw, OutlawTheme), AdecuadoOutlaw)\n",
    "\n",
    "axiomas_rdr2 = And(axioma_main, axioma_gunfight, axioma_journey, axioma_saloon, axioma_outlaw)\n",
    "\n",
    "# Hechos para cada banda sonora en RDR2:\n",
    "# - MainTheme es melancólico y se usa en un escenario narrativo.\n",
    "fact_main = And(MainTheme, Melancolico, Narrativa)\n",
    "# - GunfightTheme es intenso y se utiliza en un escenario de tiroteo.\n",
    "fact_gunfight = And(GunfightTheme, Intenso, Tiroteo)\n",
    "# - JourneyTheme es ambiental y se utiliza en un escenario de viaje.\n",
    "fact_journey = And(JourneyTheme, Ambiental, Viaje)\n",
    "# - SaloonTheme es relajado y se utiliza en un escenario social.\n",
    "fact_saloon = And(SaloonTheme, Relajado, Social)\n",
    "# - OutlawTheme es oscuro pero se usa de forma incorrecta (no en ZonaOutlaw).\n",
    "fact_outlaw = And(OutlawTheme, Oscuro, Not(ZonaOutlaw))\n",
    "\n",
    "def consulta_rdr2(fact, axioma, Adecuado, descripcion):\n",
    "    formula = And(axiomas_rdr2, fact, axioma, Not(Adecuado))\n",
    "    resultado = satisfiable(formula)\n",
    "    if not resultado:\n",
    "        print(f\"{descripcion}: Se deduce que es adecuado.\")\n",
    "    else:\n",
    "        print(f\"{descripcion}: No se deduce la adecuación. Asignación parcial: {resultado}\")\n",
    "\n",
    "print(\"----- Ejemplo para RDR2 -----\")\n",
    "consulta_rdr2(fact_main, axioma_main, AdecuadoMain, \"Consulta MainTheme\")\n",
    "consulta_rdr2(fact_gunfight, axioma_gunfight, AdecuadoGunfight, \"Consulta GunfightTheme\")\n",
    "consulta_rdr2(fact_journey, axioma_journey, AdecuadoJourney, \"Consulta JourneyTheme\")\n",
    "consulta_rdr2(fact_saloon, axioma_saloon, AdecuadoSaloon, \"Consulta SaloonTheme\")\n",
    "consulta_rdr2(fact_outlaw, axioma_outlaw, AdecuadoOutlaw, \"Consulta OutlawTheme\")\n"
   ],
   "id": "69f03cebce44b3da"
  },
  {
   "metadata": {},
   "cell_type": "code",
   "outputs": [],
   "execution_count": null,
   "source": "",
   "id": "880e58681600304"
  }
 ],
 "metadata": {
  "kernelspec": {
   "display_name": "Python 3",
   "language": "python",
   "name": "python3"
  },
  "language_info": {
   "codemirror_mode": {
    "name": "ipython",
    "version": 2
   },
   "file_extension": ".py",
   "mimetype": "text/x-python",
   "name": "python",
   "nbconvert_exporter": "python",
   "pygments_lexer": "ipython2",
   "version": "2.7.6"
  }
 },
 "nbformat": 4,
 "nbformat_minor": 5
}
